{
 "cells": [
  {
   "cell_type": "code",
   "execution_count": 37,
   "id": "e07cb370-4947-4e7c-a44f-cbb690351b81",
   "metadata": {},
   "outputs": [],
   "source": [
    "# 1. Import all the necessary libraries\n",
    "import pandas as pd\n",
    "import matplotlib.pyplot as plt\n",
    "import seaborn as sns\n",
    "from mlxtend.frequent_patterns import apriori, association_rules"
   ]
  },
  {
   "cell_type": "code",
   "execution_count": 39,
   "id": "7a31646e-e045-486a-aee1-a9478a0644af",
   "metadata": {},
   "outputs": [],
   "source": [
    "# 2. Load the data\n",
    "file_path = \"Groceries_dataset.csv\"  # Replace with the actual file path\n",
    "data = pd.read_csv(file_path)"
   ]
  },
  {
   "cell_type": "code",
   "execution_count": 41,
   "id": "6a358619-7a6e-41e0-aa46-be2b45374986",
   "metadata": {},
   "outputs": [
    {
     "name": "stdout",
     "output_type": "stream",
     "text": [
      "   Member_number        Date   itemDescription\n",
      "0           1808  21-07-2015    tropical fruit\n",
      "1           2552  05-01-2015        whole milk\n",
      "2           2300  19-09-2015         pip fruit\n",
      "3           1187  12-12-2015  other vegetables\n",
      "4           3037  01-02-2015        whole milk\n",
      "       Member_number        Date        itemDescription\n",
      "38760           4471  08-10-2014          sliced cheese\n",
      "38761           2022  23-02-2014                  candy\n",
      "38762           1097  16-04-2014               cake bar\n",
      "38763           1510  03-12-2014  fruit/vegetable juice\n",
      "38764           1521  26-12-2014               cat food\n",
      "<class 'pandas.core.frame.DataFrame'>\n",
      "RangeIndex: 38765 entries, 0 to 38764\n",
      "Data columns (total 3 columns):\n",
      " #   Column           Non-Null Count  Dtype \n",
      "---  ------           --------------  ----- \n",
      " 0   Member_number    38765 non-null  int64 \n",
      " 1   Date             38765 non-null  object\n",
      " 2   itemDescription  38765 non-null  object\n",
      "dtypes: int64(1), object(2)\n",
      "memory usage: 908.7+ KB\n",
      "None\n",
      "       Member_number\n",
      "count   38765.000000\n",
      "mean     3003.641868\n",
      "std      1153.611031\n",
      "min      1000.000000\n",
      "25%      2002.000000\n",
      "50%      3005.000000\n",
      "75%      4007.000000\n",
      "max      5000.000000\n"
     ]
    }
   ],
   "source": [
    "# 3. Understand the data\n",
    "print(data.head())\n",
    "print(data.tail())\n",
    "print(data.info())\n",
    "print(data.describe())"
   ]
  },
  {
   "cell_type": "code",
   "execution_count": 43,
   "id": "fa503df1-d458-41ce-87c1-01981f929b59",
   "metadata": {},
   "outputs": [
    {
     "name": "stdout",
     "output_type": "stream",
     "text": [
      "Null values:\n",
      " Member_number      0\n",
      "Date               0\n",
      "itemDescription    0\n",
      "dtype: int64\n",
      "Number of duplicate rows: 759\n"
     ]
    }
   ],
   "source": [
    "# 4. Check for null values and duplicates\n",
    "null_values = data.isnull().sum()\n",
    "print(\"Null values:\\n\", null_values)\n",
    "\n",
    "duplicates = data.duplicated().sum()\n",
    "print(f\"Number of duplicate rows: {duplicates}\")"
   ]
  },
  {
   "cell_type": "code",
   "execution_count": 47,
   "id": "e163e13c-1fbd-4498-9171-5eee0e4782e5",
   "metadata": {},
   "outputs": [
    {
     "name": "stderr",
     "output_type": "stream",
     "text": [
      "C:\\Users\\Admin\\anaconda3\\Lib\\site-packages\\mlxtend\\frequent_patterns\\fpcommon.py:161: DeprecationWarning: DataFrames with non-bool types result in worse computationalperformance and their support might be discontinued in the future.Please use a DataFrame with bool type\n",
      "  warnings.warn(\n"
     ]
    },
    {
     "ename": "ValueError",
     "evalue": "The allowed values for a DataFrame are True, False, 0, 1. Found value 1808",
     "output_type": "error",
     "traceback": [
      "\u001b[1;31m---------------------------------------------------------------------------\u001b[0m",
      "\u001b[1;31mValueError\u001b[0m                                Traceback (most recent call last)",
      "Cell \u001b[1;32mIn[47], line 8\u001b[0m\n\u001b[0;32m      5\u001b[0m data_binary \u001b[38;5;241m=\u001b[39m pd\u001b[38;5;241m.\u001b[39mget_dummies(data)  \u001b[38;5;66;03m# Convert categorical columns to binary format\u001b[39;00m\n\u001b[0;32m      7\u001b[0m \u001b[38;5;66;03m# Step 2: Run Apriori on the encoded data\u001b[39;00m\n\u001b[1;32m----> 8\u001b[0m frequent_itemsets \u001b[38;5;241m=\u001b[39m apriori(data_binary, min_support\u001b[38;5;241m=\u001b[39m\u001b[38;5;241m0.05\u001b[39m, use_colnames\u001b[38;5;241m=\u001b[39m\u001b[38;5;28;01mTrue\u001b[39;00m)\n\u001b[0;32m      9\u001b[0m \u001b[38;5;28mprint\u001b[39m(\u001b[38;5;124m\"\u001b[39m\u001b[38;5;130;01m\\n\u001b[39;00m\u001b[38;5;124mFrequent Itemsets:\u001b[39m\u001b[38;5;130;01m\\n\u001b[39;00m\u001b[38;5;124m\"\u001b[39m, frequent_itemsets)\n\u001b[0;32m     11\u001b[0m \u001b[38;5;66;03m# Step 3: Generate association rules\u001b[39;00m\n",
      "File \u001b[1;32m~\\anaconda3\\Lib\\site-packages\\mlxtend\\frequent_patterns\\apriori.py:241\u001b[0m, in \u001b[0;36mapriori\u001b[1;34m(df, min_support, use_colnames, max_len, verbose, low_memory)\u001b[0m\n\u001b[0;32m    234\u001b[0m \u001b[38;5;28;01mif\u001b[39;00m min_support \u001b[38;5;241m<\u001b[39m\u001b[38;5;241m=\u001b[39m \u001b[38;5;241m0.0\u001b[39m:\n\u001b[0;32m    235\u001b[0m     \u001b[38;5;28;01mraise\u001b[39;00m \u001b[38;5;167;01mValueError\u001b[39;00m(\n\u001b[0;32m    236\u001b[0m         \u001b[38;5;124m\"\u001b[39m\u001b[38;5;124m`min_support` must be a positive \u001b[39m\u001b[38;5;124m\"\u001b[39m\n\u001b[0;32m    237\u001b[0m         \u001b[38;5;124m\"\u001b[39m\u001b[38;5;124mnumber within the interval `(0, 1]`. \u001b[39m\u001b[38;5;124m\"\u001b[39m\n\u001b[0;32m    238\u001b[0m         \u001b[38;5;124m\"\u001b[39m\u001b[38;5;124mGot \u001b[39m\u001b[38;5;132;01m%s\u001b[39;00m\u001b[38;5;124m.\u001b[39m\u001b[38;5;124m\"\u001b[39m \u001b[38;5;241m%\u001b[39m min_support\n\u001b[0;32m    239\u001b[0m     )\n\u001b[1;32m--> 241\u001b[0m fpc\u001b[38;5;241m.\u001b[39mvalid_input_check(df)\n\u001b[0;32m    243\u001b[0m \u001b[38;5;28;01mif\u001b[39;00m \u001b[38;5;28mhasattr\u001b[39m(df, \u001b[38;5;124m\"\u001b[39m\u001b[38;5;124msparse\u001b[39m\u001b[38;5;124m\"\u001b[39m):\n\u001b[0;32m    244\u001b[0m     \u001b[38;5;66;03m# DataFrame with SparseArray (pandas >= 0.24)\u001b[39;00m\n\u001b[0;32m    245\u001b[0m     \u001b[38;5;28;01mif\u001b[39;00m df\u001b[38;5;241m.\u001b[39msize \u001b[38;5;241m==\u001b[39m \u001b[38;5;241m0\u001b[39m:\n",
      "File \u001b[1;32m~\\anaconda3\\Lib\\site-packages\\mlxtend\\frequent_patterns\\fpcommon.py:209\u001b[0m, in \u001b[0;36mvalid_input_check\u001b[1;34m(df, null_values)\u001b[0m\n\u001b[0;32m    204\u001b[0m \u001b[38;5;28;01mif\u001b[39;00m null_values:\n\u001b[0;32m    205\u001b[0m     s \u001b[38;5;241m=\u001b[39m (\n\u001b[0;32m    206\u001b[0m         \u001b[38;5;124m\"\u001b[39m\u001b[38;5;124mThe allowed values for a DataFrame\u001b[39m\u001b[38;5;124m\"\u001b[39m\n\u001b[0;32m    207\u001b[0m         \u001b[38;5;124m\"\u001b[39m\u001b[38;5;124m are True, False, 0, 1, NaN. Found value \u001b[39m\u001b[38;5;132;01m%s\u001b[39;00m\u001b[38;5;124m\"\u001b[39m \u001b[38;5;241m%\u001b[39m (val)\n\u001b[0;32m    208\u001b[0m     )\n\u001b[1;32m--> 209\u001b[0m \u001b[38;5;28;01mraise\u001b[39;00m \u001b[38;5;167;01mValueError\u001b[39;00m(s)\n",
      "\u001b[1;31mValueError\u001b[0m: The allowed values for a DataFrame are True, False, 0, 1. Found value 1808"
     ]
    }
   ],
   "source": [
    "# 5. Apriori and Association Rules\n",
    "# Step 1: Ensure the data is binary (True/False or 0/1) for Apriori\n",
    "# Encoding the data into binary format\n",
    "# If the data is transactional, ensure it's in binary format (e.g., one-hot encoding)\n",
    "data_binary = pd.get_dummies(data)  # Convert categorical columns to binary format\n",
    "\n",
    "# Step 2: Run Apriori on the encoded data\n",
    "frequent_itemsets = apriori(data_binary, min_support=0.05, use_colnames=True)\n",
    "print(\"\\nFrequent Itemsets:\\n\", frequent_itemsets)\n",
    "\n",
    "# Step 3: Generate association rules\n",
    "rules = association_rules(frequent_itemsets, metric=\"lift\", min_threshold=1.0)\n",
    "print(\"\\nAssociation Rules:\\n\", rules)"
   ]
  },
  {
   "cell_type": "code",
   "execution_count": null,
   "id": "1bc6910d-55bf-4abf-be6d-fdd4d63d426a",
   "metadata": {},
   "outputs": [],
   "source": [
    "# 6. Make plots\n",
    "# Line plot\n",
    "data.plot(kind='line')\n",
    "plt.title('Line Plot')\n",
    "plt.show()\n",
    "\n",
    "# Bar plot\n",
    "data.plot(kind='bar')\n",
    "plt.title('Bar Plot')\n",
    "plt.show()\n",
    "\n",
    "# Select only numeric columns for correlation\n",
    "numeric_data = data.select_dtypes(include=['number'])\n",
    "\n",
    "# Plot heatmap for numeric data only\n",
    "plt.figure(figsize=(10, 8))\n",
    "sns.heatmap(numeric_data.corr(), annot=True, cmap=\"coolwarm\")\n",
    "plt.title(\"Correlation Heatmap\")\n",
    "plt.show()\n"
   ]
  },
  {
   "cell_type": "code",
   "execution_count": null,
   "id": "9d02c027-7204-4ba8-a994-9a7309fdb9c2",
   "metadata": {},
   "outputs": [],
   "source": [
    "# Select only numeric columns for correlation\n",
    "numeric_data = data.select_dtypes(include=['number'])\n",
    "\n",
    "# Plot heatmap for numeric data only\n",
    "plt.figure(figsize=(10, 8))\n",
    "sns.heatmap(numeric_data.corr(), annot=True, cmap=\"coolwarm\")\n",
    "plt.title(\"Correlation Heatmap\")\n",
    "plt.show()\n"
   ]
  },
  {
   "cell_type": "code",
   "execution_count": 51,
   "id": "fb99634a-caad-4d03-8cb5-84c2dfdc1ec1",
   "metadata": {},
   "outputs": [
    {
     "name": "stdout",
     "output_type": "stream",
     "text": [
      "First 5 rows of the data:\n",
      "   Member_number        Date   itemDescription\n",
      "0           1808  21-07-2015    tropical fruit\n",
      "1           2552  05-01-2015        whole milk\n",
      "2           2300  19-09-2015         pip fruit\n",
      "3           1187  12-12-2015  other vegetables\n",
      "4           3037  01-02-2015        whole milk\n",
      "\n",
      "Data Information:\n",
      "<class 'pandas.core.frame.DataFrame'>\n",
      "RangeIndex: 38765 entries, 0 to 38764\n",
      "Data columns (total 3 columns):\n",
      " #   Column           Non-Null Count  Dtype \n",
      "---  ------           --------------  ----- \n",
      " 0   Member_number    38765 non-null  int64 \n",
      " 1   Date             38765 non-null  object\n",
      " 2   itemDescription  38765 non-null  object\n",
      "dtypes: int64(1), object(2)\n",
      "memory usage: 908.7+ KB\n",
      "None\n",
      "\n",
      "Frequent Itemsets:\n",
      "    support                                itemsets\n",
      "0      1.0                         (Member_number)\n",
      "1      1.0                                  (Date)\n",
      "2      1.0                       (itemDescription)\n",
      "3      1.0                   (Member_number, Date)\n",
      "4      1.0        (Member_number, itemDescription)\n",
      "5      1.0                 (Date, itemDescription)\n",
      "6      1.0  (Member_number, Date, itemDescription)\n",
      "\n",
      "Association Rules:\n",
      "                          antecedents                       consequents  \\\n",
      "0                    (Member_number)                            (Date)   \n",
      "1                             (Date)                   (Member_number)   \n",
      "2                    (Member_number)                 (itemDescription)   \n",
      "3                  (itemDescription)                   (Member_number)   \n",
      "4                             (Date)                 (itemDescription)   \n",
      "5                  (itemDescription)                            (Date)   \n",
      "6              (Member_number, Date)                 (itemDescription)   \n",
      "7   (Member_number, itemDescription)                            (Date)   \n",
      "8            (Date, itemDescription)                   (Member_number)   \n",
      "9                    (Member_number)           (Date, itemDescription)   \n",
      "10                            (Date)  (Member_number, itemDescription)   \n",
      "11                 (itemDescription)             (Member_number, Date)   \n",
      "\n",
      "    antecedent support  consequent support  support  confidence  lift  \\\n",
      "0                  1.0                 1.0      1.0         1.0   1.0   \n",
      "1                  1.0                 1.0      1.0         1.0   1.0   \n",
      "2                  1.0                 1.0      1.0         1.0   1.0   \n",
      "3                  1.0                 1.0      1.0         1.0   1.0   \n",
      "4                  1.0                 1.0      1.0         1.0   1.0   \n",
      "5                  1.0                 1.0      1.0         1.0   1.0   \n",
      "6                  1.0                 1.0      1.0         1.0   1.0   \n",
      "7                  1.0                 1.0      1.0         1.0   1.0   \n",
      "8                  1.0                 1.0      1.0         1.0   1.0   \n",
      "9                  1.0                 1.0      1.0         1.0   1.0   \n",
      "10                 1.0                 1.0      1.0         1.0   1.0   \n",
      "11                 1.0                 1.0      1.0         1.0   1.0   \n",
      "\n",
      "    representativity  leverage  conviction  zhangs_metric  jaccard  certainty  \\\n",
      "0                1.0       0.0         inf            0.0      1.0        0.0   \n",
      "1                1.0       0.0         inf            0.0      1.0        0.0   \n",
      "2                1.0       0.0         inf            0.0      1.0        0.0   \n",
      "3                1.0       0.0         inf            0.0      1.0        0.0   \n",
      "4                1.0       0.0         inf            0.0      1.0        0.0   \n",
      "5                1.0       0.0         inf            0.0      1.0        0.0   \n",
      "6                1.0       0.0         inf            0.0      1.0        0.0   \n",
      "7                1.0       0.0         inf            0.0      1.0        0.0   \n",
      "8                1.0       0.0         inf            0.0      1.0        0.0   \n",
      "9                1.0       0.0         inf            0.0      1.0        0.0   \n",
      "10               1.0       0.0         inf            0.0      1.0        0.0   \n",
      "11               1.0       0.0         inf            0.0      1.0        0.0   \n",
      "\n",
      "    kulczynski  \n",
      "0          1.0  \n",
      "1          1.0  \n",
      "2          1.0  \n",
      "3          1.0  \n",
      "4          1.0  \n",
      "5          1.0  \n",
      "6          1.0  \n",
      "7          1.0  \n",
      "8          1.0  \n",
      "9          1.0  \n",
      "10         1.0  \n",
      "11         1.0  \n"
     ]
    },
    {
     "name": "stderr",
     "output_type": "stream",
     "text": [
      "C:\\Users\\Admin\\AppData\\Local\\Temp\\ipykernel_15668\\83803047.py:20: FutureWarning: DataFrame.applymap has been deprecated. Use DataFrame.map instead.\n",
      "  data_binary = data.applymap(lambda x: 1 if x not in [0, False, 'No', 'None', ''] else 0)\n",
      "C:\\Users\\Admin\\anaconda3\\Lib\\site-packages\\mlxtend\\frequent_patterns\\fpcommon.py:161: DeprecationWarning: DataFrames with non-bool types result in worse computationalperformance and their support might be discontinued in the future.Please use a DataFrame with bool type\n",
      "  warnings.warn(\n",
      "C:\\Users\\Admin\\anaconda3\\Lib\\site-packages\\mlxtend\\frequent_patterns\\association_rules.py:186: RuntimeWarning: invalid value encountered in divide\n",
      "  cert_metric = np.where(certainty_denom == 0, 0, certainty_num / certainty_denom)\n"
     ]
    },
    {
     "data": {
      "image/png": "[encoded data removed]",
      "text/plain": [
       "<Figure size 1000x800 with 2 Axes>"
      ]
     },
     "metadata": {},
     "output_type": "display_data"
    }
   ],
   "source": [
    "# 1. Import necessary libraries\n",
    "import pandas as pd\n",
    "import matplotlib.pyplot as plt\n",
    "import seaborn as sns\n",
    "from mlxtend.frequent_patterns import apriori, association_rules\n",
    "\n",
    "# 2. Load the data\n",
    "file_path = \"Groceries_dataset.csv\"  # Replace with the actual file path\n",
    "data = pd.read_csv(file_path)\n",
    "\n",
    "# 3. Data exploration\n",
    "print(\"First 5 rows of the data:\")\n",
    "print(data.head())\n",
    "print(\"\\nData Information:\")\n",
    "print(data.info())\n",
    "\n",
    "# 4. Ensure binary conversion for Apriori\n",
    "# For demonstration, we assume each row is a transaction and each column is an item\n",
    "# Step 1: Convert all columns to binary (0 or 1)\n",
    "data_binary = data.applymap(lambda x: 1 if x not in [0, False, 'No', 'None', ''] else 0)\n",
    "\n",
    "# Step 2: Run Apriori on the binary-encoded data\n",
    "frequent_itemsets = apriori(data_binary, min_support=0.05, use_colnames=True)\n",
    "print(\"\\nFrequent Itemsets:\\n\", frequent_itemsets)\n",
    "\n",
    "# Step 3: Generate association rules\n",
    "rules = association_rules(frequent_itemsets, metric=\"lift\", min_threshold=1.0)\n",
    "print(\"\\nAssociation Rules:\\n\", rules)\n",
    "\n",
    "# 5. Heatmap for correlation (only numeric columns)\n",
    "numeric_data = data.select_dtypes(include=['number'])\n",
    "plt.figure(figsize=(10, 8))\n",
    "sns.heatmap(numeric_data.corr(), annot=True, cmap=\"coolwarm\")\n",
    "plt.title(\"Correlation Heatmap\")\n",
    "plt.show()\n"
   ]
  },
  {
   "cell_type": "code",
   "execution_count": null,
   "id": "c1f53c1f-488e-4ea7-a484-5af8d49e7ae2",
   "metadata": {},
   "outputs": [],
   "source": []
  }
 ],
 "metadata": {
  "kernelspec": {
   "display_name": "Python [conda env:base] *",
   "language": "python",
   "name": "conda-base-py"
  },
  "language_info": {
   "codemirror_mode": {
    "name": "ipython",
    "version": 3
   },
   "file_extension": ".py",
   "mimetype": "text/x-python",
   "name": "python",
   "nbconvert_exporter": "python",
   "pygments_lexer": "ipython3",
   "version": "3.12.7"
  }
 },
 "nbformat": 4,
 "nbformat_minor": 5
}
