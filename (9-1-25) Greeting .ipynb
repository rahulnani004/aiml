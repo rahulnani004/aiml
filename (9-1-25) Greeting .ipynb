{
 "cells": [
  {
   "cell_type": "code",
   "execution_count": 9,
   "id": "e86e8ea7-bc36-4c6d-8579-6db6c787d695",
   "metadata": {},
   "outputs": [],
   "source": [
    "# Greeting\n",
    "def greet(name):\n",
    "    print(f\"Good Morning (name)!\")"
   ]
  },
  {
   "cell_type": "code",
   "execution_count": 11,
   "id": "c29c8b55-3b00-4c67-ad69-e6b8cf7055f5",
   "metadata": {},
   "outputs": [
    {
     "ename": "SyntaxError",
     "evalue": "invalid syntax (883584617.py, line 1)",
     "output_type": "error",
     "traceback": [
      "\u001b[1;36m  Cell \u001b[1;32mIn[11], line 1\u001b[1;36m\u001b[0m\n\u001b[1;33m    write a user defined function to Greet with \"Good Morning\"\u001b[0m\n\u001b[1;37m          ^\u001b[0m\n\u001b[1;31mSyntaxError\u001b[0m\u001b[1;31m:\u001b[0m invalid syntax\n"
     ]
    }
   ],
   "source": [
    "write a user defined function to Greet with \"Good Morning\" "
   ]
  },
  {
   "cell_type": "code",
   "execution_count": 5,
   "id": "902f1d1f-877f-4d8d-9cf5-b42ee5ec7830",
   "metadata": {},
   "outputs": [],
   "source": [
    "# product of 3 numbers \n",
    "product = lambda a,b,c : a*b*c"
   ]
  },
  {
   "cell_type": "code",
   "execution_count": 7,
   "id": "ed6245c1-7b07-4ee9-bbb5-bb77655c0317",
   "metadata": {},
   "outputs": [
    {
     "data": {
      "text/plain": [
       "24000"
      ]
     },
     "execution_count": 7,
     "metadata": {},
     "output_type": "execute_result"
    }
   ],
   "source": [
    "product(20,30,40)"
   ]
  },
  {
   "cell_type": "code",
   "execution_count": 13,
   "id": "f4e6570b-0dfd-49ce-8fc1-6884e6017e5e",
   "metadata": {},
   "outputs": [],
   "source": [
    "# lambda function with list comprehension \n",
    "even = lambda L : [x for x in L if x%2 ==0]"
   ]
  },
  {
   "cell_type": "code",
   "execution_count": 15,
   "id": "023b480a-f0cb-47a3-aab9-236ef00ead60",
   "metadata": {},
   "outputs": [
    {
     "data": {
      "text/plain": [
       "[100, 38, 56, 20]"
      ]
     },
     "execution_count": 15,
     "metadata": {},
     "output_type": "execute_result"
    }
   ],
   "source": [
    "my_list = [100,3,9,38,43,56,20]\n",
    "even(my_list)"
   ]
  },
  {
   "cell_type": "code",
   "execution_count": 17,
   "id": "763ac723-272a-46ab-9c26-6ba7fc76f187",
   "metadata": {},
   "outputs": [],
   "source": [
    "def mean_value(*n):\n",
    "    sum = 0\n",
    "    counter = 0\n",
    "    for x in n:\n",
    "        counter = counter +1\n",
    "        sum += x\n",
    "    mean = sum /counter\n",
    "    return mean"
   ]
  },
  {
   "cell_type": "code",
   "execution_count": 19,
   "id": "953cc3e7-80bd-4b76-86e8-e46a51472bf0",
   "metadata": {},
   "outputs": [],
   "source": [
    "def product(*n):\n",
    "    result = 1\n",
    "    for i in range(len(n)):\n",
    "        result *= n[i]\n",
    "    return result"
   ]
  },
  {
   "cell_type": "code",
   "execution_count": null,
   "id": "3ace30c1-8122-45fd-98a8-1f29ecf29c3d",
   "metadata": {},
   "outputs": [],
   "source": []
  }
 ],
 "metadata": {
  "kernelspec": {
   "display_name": "Python [conda env:base] *",
   "language": "python",
   "name": "conda-base-py"
  },
  "language_info": {
   "codemirror_mode": {
    "name": "ipython",
    "version": 3
   },
   "file_extension": ".py",
   "mimetype": "text/x-python",
   "name": "python",
   "nbconvert_exporter": "python",
   "pygments_lexer": "ipython3",
   "version": "3.12.7"
  }
 },
 "nbformat": 4,
 "nbformat_minor": 5
}
