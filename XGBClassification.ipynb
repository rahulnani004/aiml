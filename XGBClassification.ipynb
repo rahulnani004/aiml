{
 "cells": [
  {
   "cell_type": "code",
   "execution_count": null,
   "id": "fa58b597-0587-4cbf-a714-5e1fe1ceb319",
   "metadata": {},
   "outputs": [],
   "source": [
    "pip install xgboost"
   ]
  },
  {
   "cell_type": "code",
   "execution_count": null,
   "id": "f575a5e7-890f-4c5d-96af-4d44d6b19912",
   "metadata": {},
   "outputs": [],
   "source": [
    "import pandas as pd\n",
    "import numpy as np\n",
    "from sklearn.model_selection import train_test_split, StratifiedKFold, GridSearchCV\n",
    "from sklearn.metrics import classification_report, confusion_matrix, roc_auc_score\n",
    "from sklearn.preprocessing import StandardScaler\n",
    "from xgboost import XGBClassifier"
   ]
  },
  {
   "cell_type": "code",
   "execution_count": null,
   "id": "192188f1-943e-4cf2-b474-9e463c56078c",
   "metadata": {},
   "outputs": [],
   "source": [
    "df=pd.read_csv('diabetes.csv')\n",
    "df"
   ]
  },
  {
   "cell_type": "code",
   "execution_count": null,
   "id": "45835d68-585f-4714-9569-7b2c536bbae5",
   "metadata": {},
   "outputs": [],
   "source": [
    "# Split features and target\n",
    "X=df.drop('class',axis=1)\n",
    "y=df['class']\n",
    "# Train-test split (80-20)\n",
    "X_train, X_test, y_train, y_test=train_test_split(X, y,test_size=0.2,random_state=42)"
   ]
  },
  {
   "cell_type": "code",
   "execution_count": null,
   "id": "da6f6b00-2dda-424b-b813-d8fa47f6b57c",
   "metadata": {},
   "outputs": [],
   "source": [
    "# Feature scaling\n",
    "scaler=StandardScaler()\n",
    "X_train_scaled=scaler.fit_transform(X_train)\n",
    "X_test_scaled=scaler.transform(X_test)\n",
    "print(X_train_scaled)\n",
    "print(\"-----------------------------------------------------------------\")\n",
    "print(X_test_scaled)"
   ]
  },
  {
   "cell_type": "code",
   "execution_count": null,
   "id": "8b731a95-0e29-4dab-8344-a872c059f192",
   "metadata": {},
   "outputs": [],
   "source": [
    "# XGBoost classifier Instantiation with hyper parameter grid \n",
    "\n",
    "xgb = XGBClassifier(use_label_encoder=False, eval_metric='logloss', random_state=42) \n",
    "\n",
    "#Hyperparameter grid \n",
    "param_grid={ \n",
    "    'n_estimators': [100, 150, 200, 300], \n",
    "    'learning_rate': [0.01, 0.1,0.15], \n",
    "    'max_depth': [2, 3, 4, 5], \n",
    "    'subsample': [0.8, 1.0], \n",
    "    'colsample_bytree': [0.8, 1.0] \n",
    "} \n",
    "\n",
    "# Stratified K-Fold \n",
    "skf=StratifiedKFold(n_splits=5, shuffle=True, random_state=42) \n",
    "\n",
    "# GridSearchCV with scoring = recall \n",
    "grid_search=GridSearchCV(estimator=xgb, \n",
    "                         param_grid=param_grid, \n",
    "                         scoring='recall', \n",
    "                         cv=skf, \n",
    "                         verbose=1, \n",
    "                         n_jobs=-1)"
   ]
  },
  {
   "cell_type": "code",
   "execution_count": null,
   "id": "00a4a415-c882-412b-a49b-eefbf7f971ef",
   "metadata": {},
   "outputs": [],
   "source": [
    "# Fit the model with train data\n",
    "grid_search.fit(X_train_scaled, y_train)\n",
    "# Find the best model, best cross validated recall score\n",
    "best_model=grid_search.best_estimator_\n",
    "print(\"Best parameters:\", grid_search.best_params_)\n",
    "print(\"Best Cross-Validated Recall:\", grid_search.best_score_)\n",
    "# Predictions on test set\n",
    "y_pred=best_model.predict(X_test_scaled)"
   ]
  },
  {
   "cell_type": "code",
   "execution_count": null,
   "id": "a23ec908-3d7c-4b10-9ada-65e88fd8c9fb",
   "metadata": {},
   "outputs": [],
   "source": [
    "# Evaluation\n",
    "print(\"\\nConfusion Matrix:\\n\",confusion_matrix(y_test,y_pred))\n",
    "print(\"\\nClassification Report:\\n\",classification_report(y_test,y_pred))"
   ]
  },
  {
   "cell_type": "code",
   "execution_count": null,
   "id": "9d358333-03d4-4643-8640-875ed734c5f3",
   "metadata": {},
   "outputs": [],
   "source": [
    "best_model. feature_importances_\n",
    "\n",
    "array([0.07971691, 0.2294144 , 0.09083461, 0.0904411 , 0.09795049,\n",
    "0.13777362, 0.10586128, 0.16800755], dtype=float32)\n",
    "\n",
    "features = pd. DataFrame(best_model. feature_importances_, index = df. iloc[:, : -1].columns, columns=[\"Importances\"])\n",
    "df1= features. sort_values(by = \"Importances\")\n",
    "df1\n",
    "\n",
    "import seaborn as sns\n",
    "sns.barplot(data = df1, x= features. index, y= \"Importances\", hue = features. index, palette = \"Set1\")"
   ]
  }
 ],
 "metadata": {
  "kernelspec": {
   "display_name": "Python 3 (ipykernel)",
   "language": "python",
   "name": "python3"
  },
  "language_info": {
   "codemirror_mode": {
    "name": "ipython",
    "version": 3
   },
   "file_extension": ".py",
   "mimetype": "text/x-python",
   "name": "python",
   "nbconvert_exporter": "python",
   "pygments_lexer": "ipython3",
   "version": "3.12.7"
  }
 },
 "nbformat": 4,
 "nbformat_minor": 5
}
