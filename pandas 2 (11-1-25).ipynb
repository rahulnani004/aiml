{
 "cells": [
  {
   "cell_type": "code",
   "execution_count": null,
   "id": "491b652a-e173-4223-b808-dc921b7cdaa8",
   "metadata": {},
   "outputs": [],
   "source": [
    "Example\n",
    "1.Read a long text in to string that contain some punctuation marks also\n",
    "2.convert to lower case \n",
    "3.remove punctuation marks\n",
    "4.split it in to words using split() function\n",
    "5.Make a dictionary with each unique word as the key and its value being the number of occurence \n",
    "6.convert the dict to dataframe and print it "
   ]
  },
  {
   "cell_type": "code",
   "execution_count": 2,
   "id": "e7e33fc1-b6e7-4870-a5fd-8fa40c9d711c",
   "metadata": {},
   "outputs": [
    {
     "name": "stdout",
     "output_type": "stream",
     "text": [
      "Game Changer Budget\n",
      "\n",
      "As per reports, the movie was made on a budget of Rs 450 crore. \n",
      "\n",
      "About Game Changer \n",
      "\n",
      "The movie focuses on the life of an honest IAS officer who always follows the path of truth. He fights against the corrupt political system by conducting fair and transparent elections. The film stars Ram Charan, Kiara Advani, SJ Surya, Jayaram, Nassar, Samuthirakani, Anjali and  Naveen Chandra in key roles. The film has been directed by Shanmugam Shankar and produced by Dil Raju, Adityaram and Sireesh. The music of the film has been done by Thaman S\n"
     ]
    }
   ],
   "source": [
    "import pandas as pd\n",
    "import string \n",
    "\n",
    "# step 1 : Read a long text into a string \n",
    "text = \"\"\"Game Changer Budget\n",
    "\n",
    "As per reports, the movie was made on a budget of Rs 450 crore. \n",
    "\n",
    "About Game Changer \n",
    "\n",
    "The movie focuses on the life of an honest IAS officer who always follows the path of truth. He fights against the corrupt political system by conducting fair and transparent elections. The film stars Ram Charan, Kiara Advani, SJ Surya, Jayaram, Nassar, Samuthirakani, Anjali and  Naveen Chandra in key roles. The film has been directed by Shanmugam Shankar and produced by Dil Raju, Adityaram and Sireesh. The music of the film has been done by Thaman S\"\"\"\n",
    "print(text)"
   ]
  },
  {
   "cell_type": "code",
   "execution_count": 4,
   "id": "b1f957ff-c010-42b4-a487-9a5405ca1e3c",
   "metadata": {},
   "outputs": [
    {
     "data": {
      "text/plain": [
       "'game changer budget\\n\\nas per reports, the movie was made on a budget of rs 450 crore. \\n\\nabout game changer \\n\\nthe movie focuses on the life of an honest ias officer who always follows the path of truth. he fights against the corrupt political system by conducting fair and transparent elections. the film stars ram charan, kiara advani, sj surya, jayaram, nassar, samuthirakani, anjali and  naveen chandra in key roles. the film has been directed by shanmugam shankar and produced by dil raju, adityaram and sireesh. the music of the film has been done by thaman s'"
      ]
     },
     "execution_count": 4,
     "metadata": {},
     "output_type": "execute_result"
    }
   ],
   "source": [
    "text.lower()"
   ]
  },
  {
   "cell_type": "code",
   "execution_count": 8,
   "id": "041b95d7-c014-44f4-a8f2-9fbab45e828a",
   "metadata": {},
   "outputs": [
    {
     "data": {
      "text/plain": [
       "'Game Changer Budget\\n\\nAs per reports the movie was made on a budget of Rs 450 crore \\n\\nAbout Game Changer \\n\\nThe movie focuses on the life of an honest IAS officer who always follows the path of truth He fights against the corrupt political system by conducting fair and transparent elections The film stars Ram Charan Kiara Advani SJ Surya Jayaram Nassar Samuthirakani Anjali and  Naveen Chandra in key roles The film has been directed by Shanmugam Shankar and produced by Dil Raju Adityaram and Sireesh The music of the film has been done by Thaman S'"
      ]
     },
     "execution_count": 8,
     "metadata": {},
     "output_type": "execute_result"
    }
   ],
   "source": [
    "text = text.translate(str.maketrans(\"\",\"\",string.punctuation))\n",
    "text"
   ]
  },
  {
   "cell_type": "code",
   "execution_count": null,
   "id": "02264b31-6abd-4e5f-9a74-8f0f53ed6d0f",
   "metadata": {},
   "outputs": [],
   "source": []
  }
 ],
 "metadata": {
  "kernelspec": {
   "display_name": "Python [conda env:base] *",
   "language": "python",
   "name": "conda-base-py"
  },
  "language_info": {
   "codemirror_mode": {
    "name": "ipython",
    "version": 3
   },
   "file_extension": ".py",
   "mimetype": "text/x-python",
   "name": "python",
   "nbconvert_exporter": "python",
   "pygments_lexer": "ipython3",
   "version": "3.12.7"
  }
 },
 "nbformat": 4,
 "nbformat_minor": 5
}
